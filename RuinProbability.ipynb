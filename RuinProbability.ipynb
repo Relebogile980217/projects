{
 "cells": [
  {
   "cell_type": "markdown",
   "id": "86dabf3e",
   "metadata": {},
   "source": [
    "# Insurance Business Modelling and Basic Actuarial Calculations"
   ]
  },
  {
   "cell_type": "markdown",
   "id": "af087d53",
   "metadata": {},
   "source": [
    "## Objectives\n"
   ]
  },
  {
   "cell_type": "markdown",
   "id": "72bd2268",
   "metadata": {},
   "source": [
    "After completing this lab, you will be able to:\n"
   ]
  },
  {
   "cell_type": "markdown",
   "id": "056546e6",
   "metadata": {},
   "source": [
    "* Build a model of an Insurance Company with Risk Process.\n",
    "  * Understand the Classical Risk Process.\n",
    "* Understand basic actuarial approximations and their limitations.\n",
    "  * Use Actuarial approximations for Risk Assessment of the Classical Risk Process.\n",
    "* Calculate the Ruin Probability of the Classical Risk Process using Monte Carlo method and compare it to theoretical results.\n",
    "\n"
   ]
  },
  {
   "cell_type": "markdown",
   "id": "8cbcdfdd",
   "metadata": {},
   "source": [
    "## Introduction\n"
   ]
  },
  {
   "cell_type": "markdown",
   "id": "b105e2b2",
   "metadata": {},
   "source": [
    "The performance of an insurance company and other financial institutions should be evaluated in terms of profitability and risk.\n",
    "In this lab, we consider the average earned capital as a measure of profitability and the company ruin probability (on a fixed time interval) as a measure of risk. \n",
    "Evolution of the company's capital can be modelled by a stochastic process, the so-called Risk Process.\n",
    "Estimating ruin probability of an insurance company is an important practical problem, but it appears a difficult theoretical and computational task. In case of simplified Risk Process (in particular the Classical Risk Process) approximations are used to estimate the ruin probability. In a general case, we can apply Monte Carlo method, i.e. modeling stochastic trajectories of the company's reserves evolution.\n",
    "In this lab, we'll deal with both the Classical and a Generalized model, and assess profitability and risk.\n"
   ]
  },
  {
   "cell_type": "markdown",
   "id": "e5275174",
   "metadata": {},
   "source": [
    "## Classical Risk Process\n"
   ]
  },
  {
   "cell_type": "markdown",
   "id": "fe3090e1",
   "metadata": {},
   "source": [
    "The Classical Risk Process describes an insurance company with an initial capital $u$ through incoming cash premiums and outgoing claims. Premiums arrive at a constant rate $c>0$ and claims happen at random time moments and are random values.\n"
   ]
  },
  {
   "cell_type": "markdown",
   "id": "744003e7",
   "metadata": {},
   "source": [
    "<left>\n",
    "    <img src=\"https://cf-courses-data.s3.us.cloud-object-storage.appdomain.cloud/insurance-risk-assessment-with-montecarlo-method-using-apache-spark/images/RiskProcess.JPG\" width=\"500\" alt=\"Classical Risk Process\">\n",
    "</left>\n"
   ]
  },
  {
   "cell_type": "markdown",
   "id": "729443ae",
   "metadata": {},
   "source": [
    " ${\\xi _t} = u + ct - \\sum\\nolimits_{k = 1}^{{N_t}} {{z_k}}$ ,\n"
   ]
  },
  {
   "cell_type": "markdown",
   "id": "38df526d",
   "metadata": {},
   "source": [
    "where  ${\\xi _t}$ is the capital of the insurance company at the time moment $t$ ;\n",
    "\n",
    "$u$ is the initial state of the process (the initial capital of the company);\n",
    "\n",
    "$c$ is the rate of premium income;\n",
    "\n",
    "$N_t$ is the number of claims that arrived before time $t$;\n",
    "\n",
    "$\\{z_k, 1\\leq k\\leq N_t\\}$ are independent identically distributed random variables (claims) with distribution function $F(\\cdot)$ and mean value $\\mu=\\int_0^\\infty zdF(z)$. \n",
    "\n",
    "In the classical risk process, the flow of claims is the Poisson process, i.e. $N_t$ is a discrete random variable with Poisson distribution,\n",
    "$P\\{N_t=k\\}=\\frac{(\\lambda t)^k}{k!}e^{-\\lambda t}$. \n"
   ]
  },
  {
   "cell_type": "markdown",
   "id": "e4a4177c",
   "metadata": {},
   "source": [
    "## CALCULATIONS FOR THE CLASSICAL RISK PROCESS\n"
   ]
  },
  {
   "cell_type": "markdown",
   "id": "2949fdb9",
   "metadata": {},
   "source": [
    "In the case of the Classical Risk Process, it is possible to calculate different functional of the process analytically.\n"
   ]
  },
  {
   "cell_type": "markdown",
   "id": "59897cb2",
   "metadata": {},
   "source": [
    "## The Mean\n"
   ]
  },
  {
   "cell_type": "markdown",
   "id": "b28125ce",
   "metadata": {},
   "source": [
    "In the case of the Classical Risk Process, the mean (expected) value ${\\rm{E}}{\\xi _t} $ at time $ t $  can be found as\n"
   ]
  },
  {
   "cell_type": "markdown",
   "id": "55753685",
   "metadata": {},
   "source": [
    "${\\rm{E}}{\\xi _t} = (u + ct - \\lambda \\mu t) * \\varphi (u) = (u + (c - \\lambda \\mu )t)*\\varphi (u)$, where $\\varphi (u)$ is the non ruin probability. \n"
   ]
  },
  {
   "cell_type": "markdown",
   "id": "02a65d16",
   "metadata": {},
   "source": [
    "## The Variance\n"
   ]
  },
  {
   "cell_type": "markdown",
   "id": "59873dcc",
   "metadata": {},
   "source": [
    "The same for the variance ${\\rm{D}}{X_t} $,\n"
   ]
  },
  {
   "cell_type": "markdown",
   "id": "4255f192",
   "metadata": {},
   "source": [
    "${\\rm{D}}{X_t} = {\\rm{E}}{({X_t} - {\\rm{E}}{X_t})^2} = \\lambda t{d^2}$ ,\n",
    "\n",
    "where \n",
    "\n",
    "${d^2}{\\rm{ = E}}{({z_i})^2} = \\int_0^\\infty  {{z^2}dF(z)} $.\n"
   ]
  },
  {
   "cell_type": "markdown",
   "id": "cb912178",
   "metadata": {},
   "source": [
    "For example, in the simplest case of exponentially distributed claims, $F(z) = 1 - {e^{ - z/\\mu }}$, we have $d = \\mu $."
   ]
  },
  {
   "cell_type": "markdown",
   "id": "6ea7edf5",
   "metadata": {},
   "source": [
    "## The Ruin Probability"
   ]
  },
  {
   "cell_type": "markdown",
   "id": "480137e7",
   "metadata": {},
   "source": [
    "Calculating (or even estimating) the ruin probability appears to be a more complicated problem.\n",
    "In the simplest case of the Classical Risk Process with exponentially distributed claim sizes, $F(z) = 1 - {e^{ - z/\\mu }}$,  the ruin probability can be found as $\\psi (u)  =  {1 \\over {1 + \\rho }}\\exp \\left( { - \\,\\,{{\\rho u} \\over {\\left( {1 + \\rho } \\right)\\mu }}} \\right),\\,when \\,\\rho  > 0$ ,\n",
    "\n",
    "$\\psi (u) = 1,\\,when \\,\\rho  \\le 0$ ,\n",
    "\n",
    "where\n",
    "\n",
    "$\\rho  = {{c } \\over {\\lambda \\mu }} - 1$ .\n",
    "\n",
    "In the case of the Classical Risk Process with arbitrary claim distribution $ F(z) $, the ruin probability cannot be found analytically, but we can find an upper bound $\\psi (u) \\le {e^{ - Ru}}$, where \n",
    "$ R $ is the root of the following equation (the existence is assumed)\n",
    "\n",
    "${\\lambda  \\over {c }}\\int_0^{ + \\infty } {{e^{Ry}}\\left( {1 - F(y)} \\right)dy}  = 1$.\n"
   ]
  },
  {
   "cell_type": "markdown",
   "id": "c4f37373",
   "metadata": {},
   "source": [
    "## NUMERICAL EXPERIMENTS\n"
   ]
  },
  {
   "cell_type": "markdown",
   "id": "f8b0e68a",
   "metadata": {},
   "source": [
    "Now let's simulate different Risk Processes and compare the numerical results with the theoretical ones.\n"
   ]
  },
  {
   "cell_type": "markdown",
   "id": "78e7bd7c",
   "metadata": {},
   "source": [
    "We consider risk process with INITIAL_CAPITAL, with premium arrival at a constant INCOME_INTENSITY rate, claims are independent and identically distributed non-negative random variables (here we consider exponentially distributed claim size with positive CLAIM_MEAN) and arrive according to a Poisson process with INCOME_INTENSITY rate. \n"
   ]
  },
  {
   "cell_type": "code",
   "execution_count": 2,
   "id": "1ccae07e",
   "metadata": {},
   "outputs": [],
   "source": [
    "MAXTIME = 10000          # simulation period\n",
    "INCOME_INTENSITY = 1  # income intensity per time unit\n",
    "CLAIM_INTENSITY = 1   # time between claims is exponentially distributed \n",
    "CLAIM_MEAN = 0.8        # claims are exponentially distributed with CLAIM MEAN, should be >0\n",
    "TRAJEC_NUM = 100     # number of trajectories simulated"
   ]
  },
  {
   "cell_type": "markdown",
   "id": "890df22c",
   "metadata": {},
   "source": [
    "## THEORETICAL CALCULATIONS\n"
   ]
  },
  {
   "cell_type": "markdown",
   "id": "6deaf4a2",
   "metadata": {},
   "source": [
    "Let's define riskprocess_theo(seed_capital) function of the seed (initial) capital that will return [RuinProbability, MeanValue] values for an infinite time interval.\n"
   ]
  },
  {
   "cell_type": "code",
   "execution_count": 3,
   "id": "f2ee1bc2",
   "metadata": {},
   "outputs": [],
   "source": [
    "from math import exp #Importing exp function\n",
    "def riskprocess_theo(seed_capital): \n",
    "  Ro=(INCOME_INTENSITY)/(CLAIM_INTENSITY*CLAIM_MEAN)-1\n",
    "  if (Ro>0):\n",
    "    RuinProb_Theo=exp(-Ro*seed_capital/((Ro+1)*CLAIM_INTENSITY))/(Ro+1) #Calculating Ruin Probability on infinite time interval\n",
    "  else:RuinProb_Theo=1\n",
    "  Mean_Theo=(1-RuinProb_Theo)*(seed_capital+(INCOME_INTENSITY-CLAIM_INTENSITY*CLAIM_MEAN)*MAXTIME) #Calculating Mean\n",
    "  return [RuinProb_Theo,Mean_Theo] "
   ]
  },
  {
   "cell_type": "markdown",
   "id": "767d9483",
   "metadata": {},
   "source": [
    "## MONTE CARLO SIMULATION\n"
   ]
  },
  {
   "cell_type": "markdown",
   "id": "136d6b51",
   "metadata": {},
   "source": [
    "Now let's simulate the same Risk Process using Monte Carlo method. "
   ]
  },
  {
   "cell_type": "code",
   "execution_count": 4,
   "id": "4f61c8bc",
   "metadata": {},
   "outputs": [],
   "source": [
    "import random\n",
    "import time\n",
    "from operator import add\n",
    "def riskprocess(seed_capital): \n",
    "    RuinProb_MC = 0\n",
    "    Mean_MC = 0\n",
    "    i=0\n",
    "    for i in range(TRAJEC_NUM):\n",
    "        time = 0\n",
    "        capital=seed_capital\n",
    "        while (time < MAXTIME)and(capital>=0):\n",
    "            time_step=random.expovariate(CLAIM_INTENSITY)\n",
    "            time+=time_step\n",
    "            capital += INCOME_INTENSITY * time_step - random.expovariate(1/CLAIM_MEAN)\n",
    "            if (capital<0): #in case of ruin\n",
    "                RuinProb_MC+=1/TRAJEC_NUM \n",
    "            else:\n",
    "                Mean_MC+=capital/TRAJEC_NUM # we add obtained capital if we do not ruin\n",
    "    return [RuinProb_MC,Mean_MC]"
   ]
  },
  {
   "cell_type": "markdown",
   "id": "d4ea8966",
   "metadata": {},
   "source": [
    "Now we can test our functions.\n"
   ]
  },
  {
   "cell_type": "code",
   "execution_count": 5,
   "id": "3298a7fa",
   "metadata": {},
   "outputs": [
    {
     "name": "stdout",
     "output_type": "stream",
     "text": [
      " Results for MonteCarlo. Mean capital earned = 9361805.32210264 Ruin Probability = 0.07\n"
     ]
    }
   ],
   "source": [
    "[RuinProbMC,MeanMC]=riskprocess(10)\n",
    "print(\" Results for MonteCarlo. Mean capital earned =\",MeanMC,\"Ruin Probability =\", RuinProbMC)"
   ]
  },
  {
   "cell_type": "code",
   "execution_count": 6,
   "id": "99c4a8fb",
   "metadata": {},
   "outputs": [
    {
     "name": "stdout",
     "output_type": "stream",
     "text": [
      "Theoretical resuts Mean Value = 1792.3808645555264 Ruin Probability (infinite time) = 0.10826822658929017\n"
     ]
    }
   ],
   "source": [
    "[RuinProb_Theo,Mean_Theo]=riskprocess_theo(10)\n",
    "print(\"Theoretical resuts Mean Value =\",Mean_Theo,\"Ruin Probability (infinite time) =\",RuinProb_Theo)"
   ]
  },
  {
   "cell_type": "markdown",
   "id": "d8deb1b3",
   "metadata": {},
   "source": [
    "Now let's build the plot of Ruin Probability as a function of an initial capital. To do this, we have to generate an array of seed capital values and apply our function.\n"
   ]
  },
  {
   "cell_type": "code",
   "execution_count": 7,
   "id": "4b868d60",
   "metadata": {},
   "outputs": [],
   "source": [
    "import numpy as np\n",
    "SeedCapitalarray = np.arange(0, 20, 2).tolist() # Generating Seed Capital array\n",
    "[RuinProbMCarray,MeanMCarray]=np.array([riskprocess(u) for u in SeedCapitalarray]).transpose() # Starting Monte Carlo simulation for each Seed Capital value\n",
    "[RuinProbTheoarray,MeanTheoarray]=np.array([riskprocess_theo(u) for u in SeedCapitalarray]).transpose() # Applying theoretical fourmulas for each Seed Capital value"
   ]
  },
  {
   "cell_type": "markdown",
   "id": "ff548f2e",
   "metadata": {},
   "source": [
    "Now lets plot theoretical vs simulation results.\n"
   ]
  },
  {
   "cell_type": "code",
   "execution_count": 8,
   "id": "aab2cd5f",
   "metadata": {},
   "outputs": [],
   "source": [
    "import matplotlib.pyplot as plt"
   ]
  },
  {
   "cell_type": "code",
   "execution_count": 10,
   "id": "5e5d6046",
   "metadata": {},
   "outputs": [
    {
     "data": {
      "image/png": "[encoded data removed]",
      "text/plain": [
       "<Figure size 720x360 with 1 Axes>"
      ]
     },
     "metadata": {
      "needs_background": "light"
     },
     "output_type": "display_data"
    }
   ],
   "source": [
    "fig, ax = plt.subplots()\n",
    "ax.plot(SeedCapitalarray, RuinProbTheoarray, label = 'Theoretical Ruin Probability, $\\infty $ time interval')\n",
    "ax.plot(SeedCapitalarray, RuinProbMCarray, label = 'Monte Carlo Ruin Probability')\n",
    "ax.set_ylabel('Ruin Probability')\n",
    "ax.set_xlabel('Seed Capital')\n",
    "ax.legend()\n",
    "fig.set_figheight(5)\n",
    "fig.set_figwidth(10)\n",
    "plt.show()"
   ]
  },
  {
   "cell_type": "markdown",
   "id": "a29af982",
   "metadata": {},
   "source": [
    "Note, that theoretical Ruin Probability is calculated for an infinite time interval so it can be considered as an upper bound. Also the accuracy depends on the number of the trajectories (TRAJEC_NUM) of Monte Carlo method.\n"
   ]
  },
  {
   "cell_type": "code",
   "execution_count": 11,
   "id": "0fdfdd75",
   "metadata": {},
   "outputs": [
    {
     "data": {
      "image/png": "[encoded data removed]",
      "text/plain": [
       "<Figure size 720x360 with 1 Axes>"
      ]
     },
     "metadata": {
      "needs_background": "light"
     },
     "output_type": "display_data"
    }
   ],
   "source": [
    "fig, ax = plt.subplots()\n",
    "ax.plot(SeedCapitalarray, MeanTheoarray, label = 'Theoretical Expected Capital')\n",
    "ax.plot(SeedCapitalarray, MeanMCarray, label = 'Monte Carlo Expected Capital')\n",
    "ax.set_ylabel('Expected Capital')\n",
    "ax.set_xlabel('Seed Capital')\n",
    "ax.legend()\n",
    "fig.set_figheight(5)\n",
    "fig.set_figwidth(10)\n",
    "plt.show()"
   ]
  },
  {
   "cell_type": "markdown",
   "id": "c231a36d",
   "metadata": {},
   "source": [
    "You can increase TRAJEC_NUM to get more accurate results.\n"
   ]
  },
  {
   "cell_type": "code",
   "execution_count": null,
   "id": "56322c40",
   "metadata": {},
   "outputs": [],
   "source": []
  }
 ],
 "metadata": {
  "kernelspec": {
   "display_name": "Python 3 (ipykernel)",
   "language": "python",
   "name": "python3"
  },
  "language_info": {
   "codemirror_mode": {
    "name": "ipython",
    "version": 3
   },
   "file_extension": ".py",
   "mimetype": "text/x-python",
   "name": "python",
   "nbconvert_exporter": "python",
   "pygments_lexer": "ipython3",
   "version": "3.9.12"
  }
 },
 "nbformat": 4,
 "nbformat_minor": 5
}
